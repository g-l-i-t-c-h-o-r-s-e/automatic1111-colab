{
  "cells": [
    {
      "cell_type": "markdown",
      "metadata": {
        "colab_type": "text",
        "id": "view-in-github"
      },
      "source": [
        "<a href=\"https://colab.research.google.com/github/ddPn08/automatic1111-colab/blob/main/automatic1111.ipynb\" target=\"_parent\"><img src=\"https://colab.research.google.com/assets/colab-badge.svg\" alt=\"Open In Colab\"/></a>"
      ]
    },
    {
      "cell_type": "markdown",
      "metadata": {
        "id": "A6OFCYOzNjDX"
      },
      "source": [
        "# [Stable Diffusion WebUI Colab](https://github.com/ddPn08/stable-diffusion-webui-colab) by [ddPn08](https://github.com/ddpn08/)\n",
        "\n",
        "This colab runs from the repo [`automatic1111`](https://github.com/AUTOMATIC1111/stable-diffusion-webui)  \n",
        "このColabは[`automatic1111`](https://github.com/AUTOMATIC1111/stable-diffusion-webui) を使用しています。\n"
      ]
    },
    {
      "cell_type": "code",
      "execution_count": null,
      "metadata": {
        "id": "Y4xxtQfuJiWM"
      },
      "outputs": [],
      "source": [
        "! nvidia-smi\n",
        "! nvcc -V\n",
        "! free -h"
      ]
    },
    {
      "cell_type": "markdown",
      "metadata": {
        "id": "TE45Pqn_N81E"
      },
      "source": [
        "## 1 - Setup"
      ]
    },
    {
      "cell_type": "markdown",
      "metadata": {
        "id": "4cXkcQu6OEAu"
      },
      "source": [
        "### 1.1 Clone repository"
      ]
    },
    {
      "cell_type": "code",
      "execution_count": null,
      "metadata": {
        "cellView": "form",
        "id": "yzdbQDudNZ6j"
      },
      "outputs": [],
      "source": [
        "%cd /content/\n",
        "repository_url = \"https://github.com/AUTOMATIC1111/stable-diffusion-webui\"  # @param {type: \"string\"}\n",
        "webui_branch = \"master\"  # @param {type: \"string\"}\n",
        "\n",
        "! git clone {repository_url}\n",
        "%cd /content/stable-diffusion-webui\n",
        "! git checkout {webui_branch}\n",
        "\n",
        "# @markdown ## Extensions\n",
        "extensions = \"https://github.com/AUTOMATIC1111/stable-diffusion-webui-aesthetic-gradients, https://github.com/yfszzx/stable-diffusion-webui-images-browser\" #@param {type:\"string\"}\n",
        "extensions = extensions.split(\",\")\n",
        "\n",
        "%cd /content/stable-diffusion-webui/extensions\n",
        "\n",
        "for extension in extensions:\n",
        "    ! git clone {extension}\n"
      ]
    },
    {
      "cell_type": "markdown",
      "metadata": {
        "id": "tOHgDng2c0FX"
      },
      "source": [
        "### 1.2 Setup models"
      ]
    },
    {
      "cell_type": "code",
      "execution_count": null,
      "metadata": {
        "cellView": "form",
        "id": "Mls4_48XOrTd"
      },
      "outputs": [],
      "source": [
        "# @markdown # Load the stable-diffusion model\n",
        "# @markdown > ### stable-diffusionのモデルをロード\n",
        "\n",
        "# @markdown **Model Path Variables**\n",
        "# ask for the link\n",
        "%cd /content/\n",
        "print(\"Local Path Variables:\\n\")\n",
        "\n",
        "model_filename = \"cookie_sd_pony_run_a12_datasetv5_300k_imgs_fp16.ckpt\"  # @param {type:\"string\"}\n",
        "models_path = \"/content/models\"  # @param {type:\"string\"}\n",
        "output_path = \"/content/output\"  # @param {type:\"string\"}\n",
        "config_path = \"/content/config\"  # @param {type:\"string\"}\n",
        "\n",
        "# @markdown **Optional | Download the model if it isn't already in the `models_path` folder**\n",
        "# @markdown > モデルが`models_path`フォルダーにない場合に、モデルをダウンロードする\n",
        "\n",
        "# @markdown To download the model, you need to have accepted the terms [HERE](https://huggingface.co/CompVis/stable-diffusion-v-1-4-original)\n",
        "# @markdown and have copied a token from [HERE](https://huggingface.co/settings/tokens)\n",
        "\n",
        "# @markdown > モデルをダウンロードするには, [このページ](https://huggingface.co/CompVis/stable-diffusion-v-1-4-original)で条件に同意する必要があります。\n",
        "# @markdown > また、[このページ](https://huggingface.co/settings/tokens)からトークンを取得する必要があります。\n",
        "download_if_missing = False  # @param {type:\"boolean\"}\n",
        "model_url = \"https://sexy.canine.wf/file/furry-ckpt/cookie_sd_pony_run_a12_datasetv5_300k_imgs_fp16.ckpt\"  # @param {type:\"string\"}\n",
        "token = \"\"  # @param {type:\"string\"}\n",
        "\n",
        "# @markdown **Optional | Google Drive Path Variables**\n",
        "mount_google_drive = True  # @param {type:\"boolean\"}\n",
        "force_remount = False\n",
        "\n",
        "import os\n",
        "\n",
        "mount_success = True\n",
        "if mount_google_drive:\n",
        "    from google.colab import drive\n",
        "\n",
        "    try:\n",
        "        drive_path = \"/content/drive\"\n",
        "        drive.mount(drive_path, force_remount=force_remount)\n",
        "        models_path_gdrive = \"/content/drive/MyDrive/AI/models\"  # @param {type:\"string\"}\n",
        "        output_path_gdrive = \"/content/drive/MyDrive/AI/automatic1111/outputs\"  # @param {type:\"string\"}\n",
        "        config_path_gdrive = \"/content/drive/MyDrive/AI/automatic1111/config\"  # @param {type:\"string\"}\n",
        "        \n",
        "        models_path = models_path_gdrive\n",
        "        output_path = output_path_gdrive\n",
        "        config_path = config_path_gdrive\n",
        "    except:\n",
        "        print(\"...error mounting drive or with drive path variables\")\n",
        "        print(\"...reverting to default path variables\")\n",
        "        mount_success = False\n",
        "\n",
        "os.makedirs(models_path, exist_ok=True)\n",
        "os.makedirs(output_path, exist_ok=True)\n",
        "os.makedirs(config_path, exist_ok=True)\n",
        "os.makedirs(f\"{models_path}/embeddings\", exist_ok=True)\n",
        "os.makedirs(f\"{models_path}/hypernetworks\", exist_ok=True)\n",
        "\n",
        "! rm -Rf stable-diffusion-webui/embeddings && ln -s {models_path}/embeddings stable-diffusion-webui/embeddings\n",
        "! rm -Rf stable-diffusion-webui/models/hypernetworks && ln -s {models_path}/hypernetworks stable-diffusion-webui/models/hypernetworks\n",
        "\n",
        "if os.path.exists(\"stable-diffusion-webui/extensions/stable-diffusion-webui-aesthetic-gradients\"):\n",
        "    os.makedirs(f\"{models_path}/aesthetic_embeddings\", exist_ok=True)\n",
        "    ! rm -Rf stable-diffusion-webui/extensions/stable-diffusion-webui-aesthetic-gradients/aesthetic_embeddings \\\n",
        "        && ln -sf {models_path}/aesthetic_embeddings stable-diffusion-webui/extensions/stable-diffusion-webui-aesthetic-gradients/aesthetic_embeddings\n",
        "\n",
        "if download_if_missing:\n",
        "    if not mount_success:\n",
        "        print(\"Downloading model to \" + models_path + \" due to gdrive mount error\")\n",
        "    elif not os.path.exists(models_path + \"/\" + model_filename):\n",
        "        ! mkdir sd-model\n",
        "        %cd /content/sd-model/\n",
        "        ! curl -LJ  {model_url} -o {model_filename} {'-H \"Authorization: Bearer ' + token + '\"' if token else \"\"}\n",
        "        ! mv /content/sd-model/{model_filename} {models_path}/\n",
        "        %cd /content/\n",
        "    else:\n",
        "        print(\"Model already downloaded, moving to next step\")\n",
        "\n",
        "%cd /content/stable-diffusion-webui\n",
        "! curl -LOJ https://github.com/TencentARC/GFPGAN/releases/download/v1.3.0/GFPGANv1.3.pth\n",
        "\n",
        "print(f\"models_path: {models_path}\")\n",
        "print(f\"output_path: {output_path}\")\n",
        "print(f\"config_path: {config_path}\")"
      ]
    },
    {
      "cell_type": "markdown",
      "metadata": {
        "id": "3JkrcrPBza-M"
      },
      "source": [
        "## 2 Optional - Set webUI settings and configs before running"
      ]
    },
    {
      "cell_type": "code",
      "execution_count": 4,
      "metadata": {
        "cellView": "form",
        "id": "goUvyTZ4zd4l"
      },
      "outputs": [],
      "source": [
        "# @markdown # Advanced | Launch preferences\n",
        "# @markdown # 詳細設定\n",
        "\n",
        "# @markdown Click here for more information -> https://github.com/AUTOMATIC1111/stable-diffusion-webui/wiki/Optimizations\n",
        "# @markdown > 詳しい情報はこちらから -> https://github.com/AUTOMATIC1111/stable-diffusion-webui/wiki/Optimizations\n",
        "\n",
        "# @markdown &nbsp;\n",
        "\n",
        "no_half = False  # @param {type:\"boolean\"}\n",
        "no_half_vae = False # @param {type:\"boolean\"}\n",
        "allow_code = False # @param {type:\"boolean\"}\n",
        "no_progressbar_hiding = False  # @param {type:\"boolean\"}\n",
        "medvram = False  # @param {type:\"boolean\"}\n",
        "lowvram = False  # @param {type:\"boolean\"}\n",
        "deepdanbooru = True # @param {type:\"boolean\"}\n",
        "xformers = True  # @param {type:\"boolean\"}\n",
        "disable_opt_split_attention = False  # @param {type:\"boolean\"}\n",
        "\n",
        "# @markdown &nbsp;\n",
        "custom_arguments = \"--enable-console-prompts\" # @param {type:\"string\"}\n",
        "# @markdown * Argument added at the end when starting webui\n",
        "# @markdown > webui起動時に一番後ろに追加される引数\n",
        "\n",
        "run_string_with_variables = {\n",
        "    \"--no-half\": f\"{no_half}\",\n",
        "    \"--no-half-vae\": f\"{no_half_vae}\",\n",
        "    \"--allow-code\": f\"{allow_code}\",\n",
        "    \"--no-progressbar-hiding\": f\"{no_progressbar_hiding}\",\n",
        "    \"--medvram\": f\"{medvram}\",\n",
        "    \"--lowvram\": f\"{lowvram}\",\n",
        "    \"--deepdanbooru\": f\"{deepdanbooru}\",\n",
        "    \"--xformers\": f\"{xformers}\",\n",
        "    \"--disable-opt-split-attention\": f\"{disable_opt_split_attention}\",\n",
        "}\n",
        "\n",
        "advanced_options = {k for (k, v) in run_string_with_variables.items() if v == \"True\"}\n",
        "\n",
        "# @markdown &nbsp;\n",
        "# @markdown ## Optional | Ngrok Tunnel \n",
        "# @markdown > オプション | Ngrokのトンネルを起動する\n",
        "\n",
        "# @markdown Use Ngrok tunneling for more stable communication. To use this, you need to [sign up](https://ngrok.com/) for Ngrok and [get a token](https://dashboard.ngrok.com/get-started/setup).\n",
        "# @markdown > より安定した通信のために Ngrok トンネリングを使用します。 これを使用するには、Ngrok に[サインアップ](https://ngrok.com/) して[トークンを取得](https://dashboard.ngrok.com/get-started/setup) する必要があります。\n",
        "\n",
        "use_ngrok = False  # @param {type: \"boolean\"}\n",
        "ngrok_auth_token = \"\"  # @param {type: \"string\"}\n",
        "ngrok_region = \"us\"  # @param [\"us\", \"eu\", \"au\", \"ap\", \"sa\", \"jp\", \"in\"]\n",
        "\n",
        "# @markdown &nbsp;\n",
        "# @markdown ## Recommended | Enable password authentication (Prevent other users from using the WebUI)\n",
        "# @markdown > 推奨 | パスワード認証を有効にする (WebUIが他のユーザーによって使用されないようにします)  \n",
        "\n",
        "use_gradio_auth = True # @param {type:\"boolean\"}\n",
        "gradio_auth_username = \"username\" # @param {type:\"string\"}\n",
        "gradio_auth_password = \"password\" # @param {type:\"string\"}\n",
        "\n",
        "# @markdown &nbsp;\n",
        "# @markdown ## First load the model specified by `model_filename`\n",
        "# @markdown > `model_filename`で指定したモデルをはじめにロードする\n",
        "specify_model = False # @param {type:\"boolean\"}\n",
        "\n",
        "vars = \" \".join(advanced_options)\n",
        "if not use_ngrok:\n",
        "    vars += \" --share\"\n",
        "else:\n",
        "    vars += f\" --ngrok {ngrok_auth_token} --ngrok-region {ngrok_region}\"\n",
        "\n",
        "if specify_model:\n",
        "    vars += f\" --ckpt {models_path}/{model_filename}\"\n",
        "\n",
        "if use_gradio_auth:\n",
        "    vars += f\" --gradio-auth {gradio_auth_username}:{gradio_auth_password}\"\n",
        "\n",
        "\n",
        "import os\n",
        "\n",
        "os.environ['COMMANDLINE_ARGS'] = f\"\"\"\n",
        "--ckpt-dir {models_path} \\\n",
        "--ui-config-file {config_path}/ui-config.json \\\n",
        "--ui-settings-file {config_path}/config.json \\\n",
        "--styles-file {config_path}/styles.csv \\\n",
        "{vars} \\\n",
        "{custom_arguments}\n",
        "\"\"\"\n"
      ]
    },
    {
      "cell_type": "markdown",
      "metadata": {
        "id": "htQtwGXHTaob"
      },
      "source": [
        "## 3 - Launch WebUI"
      ]
    },
    {
      "cell_type": "code",
      "execution_count": null,
      "metadata": {
        "cellView": "form",
        "id": "Ao2t5h5qG9HD"
      },
      "outputs": [],
      "source": [
        "# @markdown ## Setup environment\n",
        "# @markdown This may take up to 10 minutes\n",
        "# @markdown > これには10分ほどかかる場合があります。\n",
        "\n",
        "# @markdown &nbsp;\n",
        "store_env_gdrive = False # @param{type:\"boolean\"}\n",
        "# @markdown Use about 3GB of GoogleDrive capacity and store Conda env on Google Drive. (Setup will be faster next time)\n",
        "# @markdown > GoogleDriveの容量を約3GB使い、Condaの環境データをGoogleドライブに保存する。 (次回からのセットアップが早くなります)\n",
        "\n",
        "# @markdown &nbsp;\n",
        "force_reinstall_environmemt = False # @param{type:\"boolean\"}\n",
        "# @markdown Do not use environments stored on GoogleDrive.\n",
        "# @markdown > GoogleDriveに保存されている環境を使用しない。\n",
        "gdrive_env_directory = \"/content/drive/MyDrive/AI/automatic1111/conda-env\" # @param{type:\"string\"}\n",
        "gdrive_env_file = f\"{gdrive_env_directory}/env.tar.zst\"\n",
        "\n",
        "%cd /content\n",
        "import os\n",
        "import sys\n",
        "\n",
        "! apt update\n",
        "! apt upgrade -y\n",
        "! apt install zstd -y\n",
        "\n",
        "if not os.path.exists(\"/usr/local/bin/conda\"):\n",
        "    ! curl -O https://repo.anaconda.com/miniconda/Miniconda3-latest-Linux-x86_64.sh\n",
        "    ! chmod +x Miniconda3-latest-Linux-x86_64.sh\n",
        "    ! bash ./Miniconda3-latest-Linux-x86_64.sh -b -f -p /usr/local\n",
        "    ! rm Miniconda3-latest-Linux-x86_64.sh\n",
        "\n",
        "if os.path.exists(gdrive_env_file) and not os.path.exists(\"/usr/local/envs/automatic\") and not force_reinstall_environmemt:\n",
        "    os.makedirs(\"/usr/local/envs/automatic\", exist_ok=True)\n",
        "    ! zstd -dc {gdrive_env_file} | tar -xf - -C /usr/local/envs/automatic\n",
        "    update_script = \"\"\"#!/bin/bash\n",
        "    eval \"$(conda shell.bash hook)\"\n",
        "    cd stable-diffusion-webui\n",
        "    conda env update -n automatic -f ./environment-wsl2.yaml\n",
        "    conda activate automatic\n",
        "    conda install -y xformers -c xformers/label/dev\n",
        "    python3 -m pip install --upgrade tensorrt\n",
        "    \"\"\"\n",
        "    ! {update_script}\n",
        "elif not os.path.exists(\"/usr/local/envs/automatic\"):\n",
        "    install_script = \"\"\"#!/bin/bash\n",
        "    eval \"$(conda shell.bash hook)\"\n",
        "    cd stable-diffusion-webui\n",
        "    conda env create -f ./environment-wsl2.yaml\n",
        "    conda activate automatic\n",
        "    conda install -y xformers -c xformers/label/dev\n",
        "    python3 -m pip install --upgrade tensorrt\n",
        "    python -c 'from launch import prepare_enviroment; prepare_enviroment()'\"\"\"\n",
        "    ! {install_script}\n",
        "\n",
        "os.environ[\"LD_LIBRARY_PATH\"] = f\"{os.environ['LD_LIBRARY_PATH']}:/usr/local/envs/automatic/lib\"\n",
        "\n",
        "if store_env_gdrive and mount_google_drive and mount_success:\n",
        "    import threading\n",
        "    def pack():\n",
        "        os.makedirs(gdrive_env_directory, exist_ok=True)\n",
        "        ! tar -C /usr/local/envs/automatic -cf - . | zstd > /content/tmp.tar.zst\n",
        "        ! mv /content/tmp.tar.zst {gdrive_env_file}\n",
        "        print(\"Finish storing environment.\")\n",
        "    threading.Thread(target=pack).start()\n",
        "    print(\"Started storing the conda environment in a separate thread. This will take approximately 2 minutes.\")"
      ]
    },
    {
      "cell_type": "code",
      "execution_count": null,
      "metadata": {
        "cellView": "form",
        "id": "Y4ebYsPqTrGb"
      },
      "outputs": [],
      "source": [
        "# @markdown # Run script\n",
        "# @markdown keep in mind that this script is set to run for ever.\n",
        "# @markdown > ※注意 このスクリプトは永久に実行されます。\n",
        "\n",
        "import os\n",
        "\n",
        "transformers_offline = False # @param {type: \"boolean\"}\n",
        "os.environ['TRANSFORMERS_OFFLINE'] = \"1\" if transformers_offline else \"0\"\n",
        "\n",
        "# @markdown &nbsp;\n",
        "\n",
        "# @markdown ### Important - click the public URL to launch WebUI in another tab\n",
        "# @markdown > ### 重要 - 公開URLをクリックしてWebUIを起動してください\n",
        "\n",
        "# @markdown ![](https://user-images.githubusercontent.com/71378929/189563599-6df78bcf-133b-41e8-a55d-8ca3783cd933.png)\n",
        "\n",
        "%cd /content/stable-diffusion-webui/\n",
        "! git pull\n",
        "\n",
        "run_script = \"\"\"#!/bin/sh\n",
        "eval \"$(conda shell.bash hook)\"\n",
        "conda activate automatic\n",
        "python launch.py\"\"\"\n",
        "! {run_script}"
      ]
    }
  ],
  "metadata": {
    "accelerator": "GPU",
    "colab": {
      "collapsed_sections": [],
      "include_colab_link": true,
      "machine_shape": "hm",
      "name": "automatic1111-stable-diffusion-webui",
      "provenance": []
    },
    "kernelspec": {
      "display_name": "Python 3.10.5 64-bit",
      "language": "python",
      "name": "python3"
    },
    "language_info": {
      "name": "python",
      "version": "3.10.5"
    },
    "vscode": {
      "interpreter": {
        "hash": "a162c579ae611c46b3f917020f03078da6a8872353b51058912d08182f7284c9"
      }
    }
  },
  "nbformat": 4,
  "nbformat_minor": 0
}
